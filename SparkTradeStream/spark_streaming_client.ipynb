{
 "cells": [
  {
   "cell_type": "code",
   "execution_count": null,
   "id": "845dadb7",
   "metadata": {},
   "outputs": [
    {
     "name": "stderr",
     "output_type": "stream",
     "text": [
      "f:\\anaconda3\\envs\\aws\\lib\\site-packages\\pyspark\\streaming\\context.py:72: FutureWarning: DStream is deprecated as of Spark 3.4.0. Migrate to Structured Streaming.\n",
      "  warnings.warn(\n"
     ]
    },
    {
     "name": "stdout",
     "output_type": "stream",
     "text": [
      "Stopping streaming context...\n",
      "Streaming context stopped.\n"
     ]
    }
   ],
   "source": [
    "\n",
    "from pyspark import SparkContext\n",
    "from pyspark.streaming import StreamingContext\n",
    "import json\n",
    "import threading\n",
    "\n",
    "def stop_streaming(ssc, timeout):\n",
    "    def stop():\n",
    "        print(\"Stopping streaming context...\")\n",
    "        ssc.stop(stopSparkContext=False, stopGraceFully=True)\n",
    "        print(\"Streaming context stopped.\")\n",
    "    threading.Timer(timeout, stop).start()\n",
    "\n",
    "if __name__ == \"__main__\":\n",
    "    # Create SparkContext and StreamingContext (batch interval 5s)\n",
    "    sc = SparkContext(\"local[2]\", \"FinancialDataStream\")\n",
    "    ssc = StreamingContext(sc, 5)\n",
    "\n",
    "    # Connect to the TCP server\n",
    "    lines = ssc.socketTextStream(\"127.0.0.1\", 9999)\n",
    "\n",
    "    # Parse JSON lines\n",
    "    transactions = lines.map(lambda line: json.loads(line))\n",
    "\n",
    "    # Example: count number of transactions per transaction_type\n",
    "    counts = transactions.map(lambda tx: (tx[\"transaction_type\"], 1)) \\\n",
    "                         .reduceByKey(lambda a, b: a + b)\n",
    "\n",
    "    counts.pprint()\n",
    "\n",
    "    amounts = transactions.map(lambda tx: (tx[\"transaction_type\"], tx[\"total_amount\"])) \\\n",
    "                          .reduceByKey(lambda a, b: a + b)\n",
    "    amounts.pprint()\n",
    "\n",
    "    stop_streaming(ssc, timeout=40)\n",
    "    \n",
    "    # Start streaming\n",
    "    ssc.start()\n",
    "    ssc.awaitTermination()\n",
    "\n",
    "\n"
   ]
  },
  {
   "cell_type": "code",
   "execution_count": 6,
   "id": "f237ac16",
   "metadata": {},
   "outputs": [],
   "source": [
    "sc.stop()"
   ]
  }
 ],
 "metadata": {
  "kernelspec": {
   "display_name": "aws",
   "language": "python",
   "name": "python3"
  },
  "language_info": {
   "codemirror_mode": {
    "name": "ipython",
    "version": 3
   },
   "file_extension": ".py",
   "mimetype": "text/x-python",
   "name": "python",
   "nbconvert_exporter": "python",
   "pygments_lexer": "ipython3",
   "version": "3.9.16"
  }
 },
 "nbformat": 4,
 "nbformat_minor": 5
}
