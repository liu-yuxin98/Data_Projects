{
 "cells": [
  {
   "cell_type": "code",
   "execution_count": null,
   "id": "845dadb7",
   "metadata": {},
   "outputs": [],
   "source": [
    "from pyspark import SparkContext\n",
    "from pyspark.streaming import StreamingContext\n",
    "import json\n",
    "\n",
    "if __name__ == \"__main__\":\n",
    "    # Create SparkContext and StreamingContext (batch interval 5s)\n",
    "    sc = SparkContext(\"local[2]\", \"FinancialDataStream\")\n",
    "    ssc = StreamingContext(sc, 5)\n",
    "\n",
    "    # Connect to the TCP server\n",
    "    lines = ssc.socketTextStream(\"127.0.0.1\", 9999)\n",
    "\n",
    "    # Parse JSON lines\n",
    "    transactions = lines.map(lambda line: json.loads(line))\n",
    "\n",
    "    # Example: count number of transactions per transaction_type\n",
    "    counts = transactions.map(lambda tx: (tx[\"transaction_type\"], 1)) \\\n",
    "                         .reduceByKey(lambda a, b: a + b)\n",
    "\n",
    "    counts.pprint()\n",
    "\n",
    "    # Start streaming\n",
    "    ssc.start()\n",
    "    ssc.awaitTermination()\n"
   ]
  }
 ],
 "metadata": {
  "language_info": {
   "name": "python"
  }
 },
 "nbformat": 4,
 "nbformat_minor": 5
}
