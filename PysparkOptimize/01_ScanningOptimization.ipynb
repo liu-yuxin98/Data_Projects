{
 "cells": [
  {
   "cell_type": "code",
   "execution_count": 1,
   "id": "2965673c",
   "metadata": {},
   "outputs": [],
   "source": [
    "from pyspark.sql import *\n",
    "from pyspark.sql.functions import spark_partition_id"
   ]
  },
  {
   "cell_type": "code",
   "execution_count": 4,
   "id": "fca17513",
   "metadata": {},
   "outputs": [],
   "source": [
    "spark = SparkSession.builder.appName(\"Spark Optimization\") \\\n",
    ".config(\"spark.sql.ui.explainMode\", \"extended\").getOrCreate()\n",
    "\n",
    "df = spark.read.csv(\"BigMart Sales.csv\", header=True, inferSchema=True)"
   ]
  },
  {
   "cell_type": "code",
   "execution_count": 5,
   "id": "4cbea60a",
   "metadata": {},
   "outputs": [
    {
     "name": "stdout",
     "output_type": "stream",
     "text": [
      "+---------------+-----------+----------------+---------------+--------------------+--------+-----------------+-------------------------+-----------+--------------------+-----------------+-----------------+\n",
      "|Item_Identifier|Item_Weight|Item_Fat_Content|Item_Visibility|           Item_Type|Item_MRP|Outlet_Identifier|Outlet_Establishment_Year|Outlet_Size|Outlet_Location_Type|      Outlet_Type|Item_Outlet_Sales|\n",
      "+---------------+-----------+----------------+---------------+--------------------+--------+-----------------+-------------------------+-----------+--------------------+-----------------+-----------------+\n",
      "|          FDA15|        9.3|         Low Fat|    0.016047301|               Dairy|249.8092|           OUT049|                     1999|     Medium|              Tier 1|Supermarket Type1|         3735.138|\n",
      "|          DRC01|       5.92|         Regular|    0.019278216|         Soft Drinks| 48.2692|           OUT018|                     2009|     Medium|              Tier 3|Supermarket Type2|         443.4228|\n",
      "|          FDN15|       17.5|         Low Fat|    0.016760075|                Meat| 141.618|           OUT049|                     1999|     Medium|              Tier 1|Supermarket Type1|          2097.27|\n",
      "|          FDX07|       19.2|         Regular|            0.0|Fruits and Vegeta...| 182.095|           OUT010|                     1998|       NULL|              Tier 3|    Grocery Store|           732.38|\n",
      "|          NCD19|       8.93|         Low Fat|            0.0|           Household| 53.8614|           OUT013|                     1987|       High|              Tier 3|Supermarket Type1|         994.7052|\n",
      "+---------------+-----------+----------------+---------------+--------------------+--------+-----------------+-------------------------+-----------+--------------------+-----------------+-----------------+\n",
      "only showing top 5 rows\n"
     ]
    }
   ],
   "source": [
    "df.show(5)"
   ]
  },
  {
   "cell_type": "code",
   "execution_count": 6,
   "id": "33710fee",
   "metadata": {},
   "outputs": [
    {
     "data": {
      "text/plain": [
       "1"
      ]
     },
     "execution_count": 6,
     "metadata": {},
     "output_type": "execute_result"
    }
   ],
   "source": [
    "df.rdd.getNumPartitions()"
   ]
  },
  {
   "cell_type": "markdown",
   "id": "83e48a58",
   "metadata": {},
   "source": [
    "# Changing Partition Size to 128KB"
   ]
  },
  {
   "cell_type": "code",
   "execution_count": 7,
   "id": "bbf4bec2",
   "metadata": {},
   "outputs": [],
   "source": [
    "spark.conf.set(\"spark.sql.files.maxPartitionBytes\", 131072)  # 128KB"
   ]
  },
  {
   "cell_type": "code",
   "execution_count": 8,
   "id": "69b30ae6",
   "metadata": {},
   "outputs": [
    {
     "data": {
      "text/plain": [
       "7"
      ]
     },
     "execution_count": 8,
     "metadata": {},
     "output_type": "execute_result"
    }
   ],
   "source": [
    "df = spark.read.csv(\"BigMart Sales.csv\", header=True, inferSchema=True)\n",
    "df.rdd.getNumPartitions()"
   ]
  },
  {
   "cell_type": "markdown",
   "id": "66b7f830",
   "metadata": {},
   "source": [
    "# Repartition"
   ]
  },
  {
   "cell_type": "code",
   "execution_count": 9,
   "id": "7411242b",
   "metadata": {},
   "outputs": [
    {
     "data": {
      "text/plain": [
       "10"
      ]
     },
     "execution_count": 9,
     "metadata": {},
     "output_type": "execute_result"
    }
   ],
   "source": [
    "df = df.repartition(10)\n",
    "df.rdd.getNumPartitions()"
   ]
  },
  {
   "cell_type": "code",
   "execution_count": 10,
   "id": "bb898ea7",
   "metadata": {},
   "outputs": [
    {
     "name": "stdout",
     "output_type": "stream",
     "text": [
      "+---------------+-----------+----------------+---------------+--------------------+--------+-----------------+-------------------------+-----------+--------------------+-----------------+-----------------+------------+\n",
      "|Item_Identifier|Item_Weight|Item_Fat_Content|Item_Visibility|           Item_Type|Item_MRP|Outlet_Identifier|Outlet_Establishment_Year|Outlet_Size|Outlet_Location_Type|      Outlet_Type|Item_Outlet_Sales|partition_id|\n",
      "+---------------+-----------+----------------+---------------+--------------------+--------+-----------------+-------------------------+-----------+--------------------+-----------------+-----------------+------------+\n",
      "|          FDS52|       NULL|         Low Fat|    0.005448005|        Frozen Foods|102.1016|           OUT027|                     1985|     Medium|              Tier 3|Supermarket Type3|         3542.056|           0|\n",
      "|          FDL22|      16.85|         Low Fat|    0.036390174|         Snack Foods| 91.4488|           OUT046|                     1997|      Small|              Tier 1|Supermarket Type1|        2082.6224|           0|\n",
      "|          FDF32|      16.35|         Low Fat|    0.068219025|Fruits and Vegeta...|198.9426|           OUT045|                     2002|       NULL|              Tier 2|Supermarket Type1|        3559.3668|           0|\n",
      "|          NCK54|      12.15|         Low Fat|            0.0|           Household| 117.815|           OUT017|                     2007|       NULL|              Tier 2|Supermarket Type1|           2330.3|           0|\n",
      "|          FDR48|      11.65|              LF|            0.0|        Baking Goods|152.6024|           OUT035|                     2004|      Small|              Tier 2|Supermarket Type1|         303.6048|           0|\n",
      "|          FDS58|      9.285|         Regular|    0.020989132|         Snack Foods|158.6578|           OUT013|                     1987|       High|              Tier 3|Supermarket Type1|         2406.867|           0|\n",
      "|          DRE13|       6.28|         Low Fat|    0.027699863|         Soft Drinks| 87.9198|           OUT035|                     2004|      Small|              Tier 2|Supermarket Type1|        1221.0772|           0|\n",
      "|          NCB30|       14.6|         Low Fat|    0.025698134|           Household|196.5084|           OUT035|                     2004|      Small|              Tier 2|Supermarket Type1|        1587.2672|           0|\n",
      "|          FDV58|      20.85|         Low Fat|    0.121250374|         Snack Foods|193.9452|           OUT046|                     1997|      Small|              Tier 1|Supermarket Type1|        1565.9616|           0|\n",
      "|          NCR54|      16.35|         Low Fat|    0.090486828|           Household| 195.211|           OUT013|                     1987|       High|              Tier 3|Supermarket Type1|         2553.343|           0|\n",
      "|          FDA08|      11.85|         Regular|    0.050186726|Fruits and Vegeta...|164.1526|           OUT045|                     2002|       NULL|              Tier 2|Supermarket Type1|        3124.5994|           0|\n",
      "|          FDB16|       8.21|         Low Fat|    0.044995631|               Dairy| 89.2198|           OUT049|                     1999|     Medium|              Tier 1|Supermarket Type1|         1308.297|           0|\n",
      "|          DRE27|      11.85|         Low Fat|    0.132560174|               Dairy| 97.2726|           OUT013|                     1987|       High|              Tier 3|Supermarket Type1|         782.9808|           0|\n",
      "|          FDZ22|       NULL|         Low Fat|    0.045050674|         Snack Foods|  84.925|           OUT027|                     1985|     Medium|              Tier 3|Supermarket Type3|         1747.725|           0|\n",
      "|          FDO28|      5.765|         Low Fat|    0.072284689|        Frozen Foods|119.9098|           OUT035|                     2004|      Small|              Tier 2|Supermarket Type1|        2048.6666|           0|\n",
      "|          NCR30|       20.6|         Low Fat|    0.071136948|           Household| 76.3696|           OUT045|                     2002|       NULL|              Tier 2|Supermarket Type1|          372.848|           0|\n",
      "|          NCP18|       NULL|         Low Fat|    0.028459761|           Household|149.9708|           OUT027|                     1985|     Medium|              Tier 3|Supermarket Type3|        4363.6532|           0|\n",
      "|          FDZ55|      6.055|         Low Fat|    0.025403898|Fruits and Vegeta...| 160.992|           OUT035|                     2004|      Small|              Tier 2|Supermarket Type1|         2716.464|           0|\n",
      "|          NCV05|       10.1|         Low Fat|    0.030379382|  Health and Hygiene|153.4656|           OUT017|                     2007|       NULL|              Tier 2|Supermarket Type1|        1853.5872|           0|\n",
      "|          NCQ50|      18.75|         Low Fat|    0.034501405|           Household|211.7218|           OUT017|                     2007|       NULL|              Tier 2|Supermarket Type1|        5770.4886|           0|\n",
      "+---------------+-----------+----------------+---------------+--------------------+--------+-----------------+-------------------------+-----------+--------------------+-----------------+-----------------+------------+\n",
      "only showing top 20 rows\n"
     ]
    }
   ],
   "source": [
    "df.withColumn(\"partition_id\", spark_partition_id()).show()"
   ]
  },
  {
   "cell_type": "markdown",
   "id": "cc36448b",
   "metadata": {},
   "source": [
    "# save data into parquet"
   ]
  },
  {
   "cell_type": "code",
   "execution_count": 11,
   "id": "ebc282a9",
   "metadata": {},
   "outputs": [],
   "source": [
    "df.write.format(\"parquet\").mode(\"append\") \\\n",
    ".option(\"path\", \"outputData/output_parquet\").save()"
   ]
  },
  {
   "cell_type": "markdown",
   "id": "cf653241",
   "metadata": {},
   "source": [
    "# New data reading"
   ]
  },
  {
   "cell_type": "code",
   "execution_count": 12,
   "id": "d23848a9",
   "metadata": {},
   "outputs": [
    {
     "name": "stdout",
     "output_type": "stream",
     "text": [
      "+---------------+-----------+----------------+---------------+--------------------+--------+-----------------+-------------------------+-----------+--------------------+-----------------+-----------------+\n",
      "|Item_Identifier|Item_Weight|Item_Fat_Content|Item_Visibility|           Item_Type|Item_MRP|Outlet_Identifier|Outlet_Establishment_Year|Outlet_Size|Outlet_Location_Type|      Outlet_Type|Item_Outlet_Sales|\n",
      "+---------------+-----------+----------------+---------------+--------------------+--------+-----------------+-------------------------+-----------+--------------------+-----------------+-----------------+\n",
      "|          FDK14|       6.98|         Low Fat|    0.041105789|              Canned| 83.4934|           OUT046|                     1997|      Small|              Tier 1|Supermarket Type1|        1555.9746|\n",
      "|          FDJ08|       NULL|         Low Fat|    0.193772568|Fruits and Vegeta...|190.3846|           OUT019|                     1985|      Small|              Tier 1|    Grocery Store|         573.2538|\n",
      "|          FDR46|      16.85|         Low Fat|    0.139417654|         Snack Foods| 147.476|           OUT046|                     1997|      Small|              Tier 1|Supermarket Type1|          2929.52|\n",
      "|          NCC30|       16.6|         Low Fat|    0.027622076|           Household|177.6344|           OUT049|                     1999|     Medium|              Tier 1|Supermarket Type1|         2676.516|\n",
      "|          FDQ56|       6.59|         Low Fat|    0.105761491|Fruits and Vegeta...| 84.8908|           OUT049|                     1999|     Medium|              Tier 1|Supermarket Type1|         1677.816|\n",
      "|          FDS31|       13.1|             reg|            0.0|Fruits and Vegeta...|178.9318|           OUT049|                     1999|     Medium|              Tier 1|Supermarket Type1|        3067.3406|\n",
      "|          FDI41|       NULL|         Regular|    0.109003832|        Frozen Foods|145.2418|           OUT019|                     1985|      Small|              Tier 1|    Grocery Store|         147.1418|\n",
      "|          FDI27|       8.71|         Regular|     0.04605781|               Dairy| 43.8744|           OUT049|                     1999|     Medium|              Tier 1|Supermarket Type1|         633.8416|\n",
      "|          FDZ26|       11.6|         Regular|    0.144017405|               Dairy|238.3222|           OUT046|                     1997|      Small|              Tier 1|Supermarket Type1|        5736.5328|\n",
      "|          FDU04|       NULL|         Low Fat|    0.009714595|        Frozen Foods|120.0414|           OUT019|                     1985|      Small|              Tier 1|    Grocery Store|         487.3656|\n",
      "|          FDS03|       NULL|         Low Fat|    0.139419417|                Meat| 66.0826|           OUT019|                     1985|      Small|              Tier 1|    Grocery Store|         258.3304|\n",
      "|          FDP16|       18.6|         Low Fat|    0.039355947|        Frozen Foods|246.3802|           OUT049|                     1999|     Medium|              Tier 1|Supermarket Type1|         7370.406|\n",
      "|          FDN33|      6.305|         Regular|    0.123115764|         Snack Foods| 95.6436|           OUT046|                     1997|      Small|              Tier 1|Supermarket Type1|         661.8052|\n",
      "|          FDN58|       13.8|             reg|    0.056960814|         Snack Foods|230.0984|           OUT049|                     1999|     Medium|              Tier 1|Supermarket Type1|        3707.1744|\n",
      "|          DRH01|       17.5|         Low Fat|    0.097904029|         Soft Drinks|174.8738|           OUT046|                     1997|      Small|              Tier 1|Supermarket Type1|        2085.2856|\n",
      "|          FDW27|       NULL|         Regular|    0.264124669|                Meat|155.7314|           OUT019|                     1985|      Small|              Tier 1|    Grocery Store|         155.1314|\n",
      "|          FDT48|       4.92|         Low Fat|    0.046026479|        Baking Goods|196.5084|           OUT049|                     1999|     Medium|              Tier 1|Supermarket Type1|        3769.7596|\n",
      "|          DRH59|       10.8|         low fat|            0.0|         Hard Drinks|  72.338|           OUT049|                     1999|     Medium|              Tier 1|Supermarket Type1|          805.618|\n",
      "|          FDW44|        9.5|         Regular|    0.035205866|Fruits and Vegeta...|171.3448|           OUT049|                     1999|     Medium|              Tier 1|Supermarket Type1|        2386.2272|\n",
      "|          FDO19|       17.7|         Regular|    0.016622448|Fruits and Vegeta...| 50.2034|           OUT049|                     1999|     Medium|              Tier 1|Supermarket Type1|        1166.4816|\n",
      "+---------------+-----------+----------------+---------------+--------------------+--------+-----------------+-------------------------+-----------+--------------------+-----------------+-----------------+\n",
      "only showing top 20 rows\n"
     ]
    }
   ],
   "source": [
    "df_new = spark.read.format(\"parquet\").load(\"outputData/output_parquet\")\n",
    "df_new = df_new.filter(df_new.Outlet_Location_Type == 'Tier 1')\n",
    "df_new.show()"
   ]
  },
  {
   "cell_type": "markdown",
   "id": "12e49cfa",
   "metadata": {},
   "source": [
    "# scanning optimization"
   ]
  },
  {
   "cell_type": "code",
   "execution_count": null,
   "id": "a100fece",
   "metadata": {},
   "outputs": [],
   "source": [
    "# if we use Outlet_Location_Type as a filter,\n",
    "# then we can partition the data based on this column"
   ]
  },
  {
   "cell_type": "code",
   "execution_count": 13,
   "id": "a1d7e0ba",
   "metadata": {},
   "outputs": [],
   "source": [
    "df.write.format(\"parquet\").mode(\"overwrite\") \\\n",
    ".partitionBy(\"Outlet_Location_Type\") \\\n",
    ".option(\"path\", \"outputData/output_parquet_optimized\") \\\n",
    ".save()"
   ]
  },
  {
   "cell_type": "code",
   "execution_count": 14,
   "id": "9f0db608",
   "metadata": {},
   "outputs": [
    {
     "name": "stdout",
     "output_type": "stream",
     "text": [
      "+---------------+-----------+----------------+---------------+--------------------+--------+-----------------+-------------------------+-----------+-----------------+-----------------+--------------------+\n",
      "|Item_Identifier|Item_Weight|Item_Fat_Content|Item_Visibility|           Item_Type|Item_MRP|Outlet_Identifier|Outlet_Establishment_Year|Outlet_Size|      Outlet_Type|Item_Outlet_Sales|Outlet_Location_Type|\n",
      "+---------------+-----------+----------------+---------------+--------------------+--------+-----------------+-------------------------+-----------+-----------------+-----------------+--------------------+\n",
      "|          FDH28|      15.85|         Regular|    0.110030997|        Frozen Foods| 37.2506|           OUT046|                     1997|      Small|Supermarket Type1|         265.6542|              Tier 1|\n",
      "|          NCW53|       NULL|         Low Fat|    0.053392944|  Health and Hygiene|193.8162|           OUT019|                     1985|      Small|    Grocery Store|         384.8324|              Tier 1|\n",
      "|          FDN15|       17.5|         Low Fat|    0.016760075|                Meat| 141.618|           OUT049|                     1999|     Medium|Supermarket Type1|          2097.27|              Tier 1|\n",
      "|          NCN55|       14.6|         Low Fat|    0.059582996|              Others|238.8538|           OUT049|                     1999|     Medium|Supermarket Type1|         6008.845|              Tier 1|\n",
      "|          NCY05|       13.5|         Low Fat|    0.054990009|  Health and Hygiene| 35.2874|           OUT046|                     1997|      Small|Supermarket Type1|         741.0354|              Tier 1|\n",
      "|          DRG27|      8.895|         Low Fat|    0.105274111|               Dairy| 39.9138|           OUT049|                     1999|     Medium|Supermarket Type1|         690.4346|              Tier 1|\n",
      "|          DRH03|       NULL|         Low Fat|    0.061393095|               Dairy|  91.812|           OUT019|                     1985|      Small|    Grocery Store|          372.848|              Tier 1|\n",
      "|          FDW22|      9.695|         Regular|     0.03033748|         Snack Foods|222.9114|           OUT049|                     1999|     Medium|Supermarket Type1|        5764.4964|              Tier 1|\n",
      "|          FDU44|      12.15|         Regular|    0.058516562|Fruits and Vegeta...|164.1552|           OUT049|                     1999|     Medium|Supermarket Type1|        5198.5664|              Tier 1|\n",
      "|          FDX14|       NULL|         Low Fat|     0.13121032|               Dairy| 74.0354|           OUT019|                     1985|      Small|    Grocery Store|          75.2354|              Tier 1|\n",
      "|          DRE60|       NULL|         low fat|    0.278974075|         Soft Drinks| 225.372|           OUT019|                     1985|      Small|    Grocery Store|          679.116|              Tier 1|\n",
      "|          FDS51|      13.35|         Low Fat|    0.032230526|                Meat| 61.4194|           OUT049|                     1999|     Medium|Supermarket Type1|         743.0328|              Tier 1|\n",
      "|          FDK48|      7.445|         Low Fat|    0.037690731|        Baking Goods| 73.3354|           OUT049|                     1999|     Medium|Supermarket Type1|         451.4124|              Tier 1|\n",
      "|          FDO57|      20.75|         Low Fat|    0.108710162|         Snack Foods|161.7578|           OUT046|                     1997|      Small|Supermarket Type1|        2888.2404|              Tier 1|\n",
      "|          FDT28|       13.3|         Low Fat|    0.063664998|        Frozen Foods|151.6708|           OUT049|                     1999|     Medium|Supermarket Type1|        3912.2408|              Tier 1|\n",
      "|          FDV49|       10.0|         Low Fat|    0.025827199|              Canned|263.2226|           OUT046|                     1997|      Small|Supermarket Type1|        3700.5164|              Tier 1|\n",
      "|          FDH32|       12.8|         Low Fat|    0.076060037|Fruits and Vegeta...|  95.141|           OUT046|                     1997|      Small|Supermarket Type1|          868.869|              Tier 1|\n",
      "|          FDZ35|        9.6|         Regular|    0.022278477|              Breads| 102.499|           OUT046|                     1997|      Small|Supermarket Type1|         1547.985|              Tier 1|\n",
      "|          FDS28|       8.18|             reg|    0.082529704|        Frozen Foods| 56.9588|           OUT049|                     1999|     Medium|Supermarket Type1|         744.3644|              Tier 1|\n",
      "|          NCN05|      8.235|         Low Fat|    0.014482153|  Health and Hygiene| 182.295|           OUT049|                     1999|     Medium|Supermarket Type1|           3661.9|              Tier 1|\n",
      "+---------------+-----------+----------------+---------------+--------------------+--------+-----------------+-------------------------+-----------+-----------------+-----------------+--------------------+\n",
      "only showing top 20 rows\n"
     ]
    }
   ],
   "source": [
    "df_optimized = spark.read.format(\"parquet\").load(\"outputData/output_parquet_optimized\")\n",
    "df_optimized = df_optimized.filter(df_optimized.Outlet_Location_Type == 'Tier 1')\n",
    "df_optimized.show()"
   ]
  }
 ],
 "metadata": {
  "kernelspec": {
   "display_name": "Python (aws_spark)",
   "language": "python",
   "name": "aws"
  },
  "language_info": {
   "codemirror_mode": {
    "name": "ipython",
    "version": 3
   },
   "file_extension": ".py",
   "mimetype": "text/x-python",
   "name": "python",
   "nbconvert_exporter": "python",
   "pygments_lexer": "ipython3",
   "version": "3.9.16"
  }
 },
 "nbformat": 4,
 "nbformat_minor": 5
}
