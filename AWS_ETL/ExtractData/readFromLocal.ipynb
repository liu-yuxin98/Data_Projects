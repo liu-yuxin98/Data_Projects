{
 "cells": [
  {
   "cell_type": "code",
   "execution_count": 2,
   "id": "d8b30165",
   "metadata": {},
   "outputs": [],
   "source": [
    "from pyspark.sql import SparkSession\n",
    "from pyspark.sql.functions import lit, col, explode\n",
    "import pyspark.sql.functions as f\n",
    "\n",
    "# COMMAND ----------\n",
    "\n",
    "# Extract\n",
    "spark = SparkSession.builder.appName(\"ETL Pipeline\").getOrCreate()\n",
    "df = spark.read.text(\"../Data/WordData.txt\")\n",
    "\n",
    "# COMMAND ----------\n",
    "\n",
    "# Transformation\n",
    "df2 = df.withColumn(\"splitedData\", f.split(\"value\",\" \"))\n",
    "df3 = df2.withColumn(\"words\", explode(\"splitedData\"))\n",
    "wordsDF = df3.select(\"words\")\n",
    "wordCount = wordsDF.groupBy(\"words\").count()"
   ]
  },
  {
   "cell_type": "code",
   "execution_count": 3,
   "id": "a1dadc2e",
   "metadata": {},
   "outputs": [
    {
     "name": "stdout",
     "output_type": "stream",
     "text": [
      "+-----------+-----+\n",
      "|      words|count|\n",
      "+-----------+-----+\n",
      "|   Tomorrow|    4|\n",
      "|         If|    8|\n",
      "|      leave|    4|\n",
      "|      corny|    4|\n",
      "|        day|    4|\n",
      "|preoccupied|    4|\n",
      "|       even|    8|\n",
      "|      crazy|    4|\n",
      "|    bananas|    4|\n",
      "|     priest|    4|\n",
      "|        did|    4|\n",
      "|    whether|    4|\n",
      "|     Having|    4|\n",
      "|        I'm|    4|\n",
      "|      crime|    4|\n",
      "|  surprised|    4|\n",
      "|      James|    4|\n",
      "|      could|    8|\n",
      "|        buy|    4|\n",
      "|        him|    8|\n",
      "+-----------+-----+\n",
      "only showing top 20 rows\n"
     ]
    }
   ],
   "source": [
    "wordCount.show()"
   ]
  }
 ],
 "metadata": {
  "kernelspec": {
   "display_name": "Python (aws_spark)",
   "language": "python",
   "name": "aws"
  },
  "language_info": {
   "codemirror_mode": {
    "name": "ipython",
    "version": 3
   },
   "file_extension": ".py",
   "mimetype": "text/x-python",
   "name": "python",
   "nbconvert_exporter": "python",
   "pygments_lexer": "ipython3",
   "version": "3.9.16"
  }
 },
 "nbformat": 4,
 "nbformat_minor": 5
}
