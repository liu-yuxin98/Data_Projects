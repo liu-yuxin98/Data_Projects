{
 "cells": [
  {
   "cell_type": "markdown",
   "id": "a4b8e458",
   "metadata": {},
   "source": [
    "# Guide: Setting Up and Testing AWS RDS with PySpark\n",
    "\n",
    "## 1. Create AWS RDS Instance\n",
    "- Launch a new PostgreSQL RDS instance in AWS.  \n",
    "- Configure the **security group rules** to allow inbound connections (e.g., port 5432) from your local machine’s IP address.  \n",
    "\n",
    "## 2. Connect RDS to Local pgAdmin\n",
    "- Open **pgAdmin** on your local machine.  \n",
    "- Create a new server connection using your RDS endpoint, port, database name, username, and password.  \n",
    "\n",
    "## 3. Set Up PostgreSQL Schema\n",
    "- Once connected, create a new schema for testing:  \n",
    "\n",
    "```sql\n",
    "CREATE SCHEMA schema_pyspark;\n",
    "```\n",
    "\n",
    "## 4. Test Initial Query\n",
    "- Try running the following query:  \n",
    "\n",
    "```sql\n",
    "SELECT * FROM schema_pyspark.\"WordCount\";\n",
    "```\n",
    "\n",
    "- At this stage, you will receive an error because the `WordCount` table does not yet exist.  \n",
    "\n",
    "## 5. Load Data with PySpark Notebook\n",
    "- Run the provided Jupyter Notebook: **`loadTORDSWordDataDemo.ipynb`**.  \n",
    "- This notebook will write the WordCount results into the RDS schema.  \n",
    "\n",
    "## 6. Verify Results\n",
    "- Re-run the query:  \n",
    "\n",
    "```sql\n",
    "SELECT * FROM schema_pyspark.\"WordCount\";\n",
    "```\n",
    "\n",
    "- You should now see the results populated by your PySpark job.  \n"
   ]
  },
  {
   "cell_type": "code",
   "execution_count": 4,
   "id": "ba02fd09",
   "metadata": {},
   "outputs": [
    {
     "name": "stdout",
     "output_type": "stream",
     "text": [
      "+-----------+-----+\n",
      "|      words|count|\n",
      "+-----------+-----+\n",
      "|   Tomorrow|    4|\n",
      "|         If|    8|\n",
      "|      leave|    4|\n",
      "|      corny|    4|\n",
      "|        day|    4|\n",
      "|preoccupied|    4|\n",
      "|       even|    8|\n",
      "|      crazy|    4|\n",
      "|    bananas|    4|\n",
      "|     priest|    4|\n",
      "|        did|    4|\n",
      "|    whether|    4|\n",
      "|     Having|    4|\n",
      "|        I'm|    4|\n",
      "|      crime|    4|\n",
      "|  surprised|    4|\n",
      "|      James|    4|\n",
      "|      could|    8|\n",
      "|        buy|    4|\n",
      "|        him|    8|\n",
      "+-----------+-----+\n",
      "only showing top 20 rows\n",
      "None\n"
     ]
    }
   ],
   "source": [
    "\n",
    "from pyspark.sql import SparkSession\n",
    "from pyspark.sql.functions import lit, col, explode\n",
    "import pyspark.sql.functions as f\n",
    "\n",
    "# COMMAND ----------\n",
    "\n",
    "# Extract\n",
    "spark = SparkSession.builder.appName(\"ETL Pipeline\").config(\"spark.jars\", \"postgresql-42.6.2.jar\").getOrCreate()\n",
    "df = spark.read.text(\"WordData.txt\")\n",
    "\n",
    "# COMMAND ----------\n",
    "\n",
    "# Transformation\n",
    "df2 = df.withColumn(\"splitedData\", f.split(\"value\",\" \"))\n",
    "df3 = df2.withColumn(\"words\", explode(\"splitedData\"))\n",
    "wordsDF = df3.select(\"words\")\n",
    "wordCount = wordsDF.groupBy(\"words\").count()\n",
    "\n",
    "print(wordCount.show())\n",
    "\n"
   ]
  },
  {
   "cell_type": "code",
   "execution_count": 5,
   "id": "22060631",
   "metadata": {},
   "outputs": [
    {
     "ename": "AnalysisException",
     "evalue": "Table or view 'schema_pyspark.WordCount' already exists. SaveMode: ErrorIfExists.",
     "output_type": "error",
     "traceback": [
      "\u001b[1;31m---------------------------------------------------------------------------\u001b[0m",
      "\u001b[1;31mAnalysisException\u001b[0m                         Traceback (most recent call last)",
      "Cell \u001b[1;32mIn[5], line 12\u001b[0m\n\u001b[0;32m      9\u001b[0m user \u001b[38;5;241m=\u001b[39m \u001b[38;5;124m\"\u001b[39m\u001b[38;5;124mpostgres\u001b[39m\u001b[38;5;124m\"\u001b[39m\n\u001b[0;32m     10\u001b[0m password \u001b[38;5;241m=\u001b[39m \u001b[38;5;124m\"\u001b[39m\u001b[38;5;124mlyx1998225\u001b[39m\u001b[38;5;124m\"\u001b[39m\n\u001b[1;32m---> 12\u001b[0m \u001b[43mwordCount\u001b[49m\u001b[38;5;241;43m.\u001b[39;49m\u001b[43mwrite\u001b[49m\u001b[38;5;241;43m.\u001b[39;49m\u001b[43mformat\u001b[49m\u001b[43m(\u001b[49m\u001b[38;5;124;43m\"\u001b[39;49m\u001b[38;5;124;43mjdbc\u001b[39;49m\u001b[38;5;124;43m\"\u001b[39;49m\u001b[43m)\u001b[49m\u001b[38;5;241;43m.\u001b[39;49m\u001b[43moption\u001b[49m\u001b[43m(\u001b[49m\u001b[38;5;124;43m\"\u001b[39;49m\u001b[38;5;124;43mdriver\u001b[39;49m\u001b[38;5;124;43m\"\u001b[39;49m\u001b[43m,\u001b[49m\u001b[43m \u001b[49m\u001b[43mdriver\u001b[49m\u001b[43m)\u001b[49m\u001b[38;5;241;43m.\u001b[39;49m\u001b[43moption\u001b[49m\u001b[43m(\u001b[49m\u001b[38;5;124;43m\"\u001b[39;49m\u001b[38;5;124;43murl\u001b[39;49m\u001b[38;5;124;43m\"\u001b[39;49m\u001b[43m,\u001b[49m\u001b[43murl\u001b[49m\u001b[43m)\u001b[49m\u001b[38;5;241;43m.\u001b[39;49m\u001b[43moption\u001b[49m\u001b[43m(\u001b[49m\u001b[38;5;124;43m\"\u001b[39;49m\u001b[38;5;124;43mdbtable\u001b[39;49m\u001b[38;5;124;43m\"\u001b[39;49m\u001b[43m,\u001b[49m\u001b[43m \u001b[49m\u001b[43mtable\u001b[49m\u001b[43m)\u001b[49m\u001b[38;5;241;43m.\u001b[39;49m\u001b[43moption\u001b[49m\u001b[43m(\u001b[49m\u001b[38;5;124;43m\"\u001b[39;49m\u001b[38;5;124;43mmode\u001b[39;49m\u001b[38;5;124;43m\"\u001b[39;49m\u001b[43m,\u001b[49m\u001b[43m \u001b[49m\n\u001b[0;32m     13\u001b[0m \u001b[38;5;124;43m\"\u001b[39;49m\u001b[38;5;124;43mappend\u001b[39;49m\u001b[38;5;124;43m\"\u001b[39;49m\u001b[43m)\u001b[49m\u001b[38;5;241;43m.\u001b[39;49m\u001b[43moption\u001b[49m\u001b[43m(\u001b[49m\u001b[38;5;124;43m\"\u001b[39;49m\u001b[38;5;124;43muser\u001b[39;49m\u001b[38;5;124;43m\"\u001b[39;49m\u001b[43m,\u001b[49m\u001b[43muser\u001b[49m\u001b[43m)\u001b[49m\u001b[38;5;241;43m.\u001b[39;49m\u001b[43moption\u001b[49m\u001b[43m(\u001b[49m\u001b[38;5;124;43m\"\u001b[39;49m\u001b[38;5;124;43mpassword\u001b[39;49m\u001b[38;5;124;43m\"\u001b[39;49m\u001b[43m,\u001b[49m\u001b[43m \u001b[49m\u001b[43mpassword\u001b[49m\u001b[43m)\u001b[49m\u001b[38;5;241;43m.\u001b[39;49m\u001b[43msave\u001b[49m\u001b[43m(\u001b[49m\u001b[43m)\u001b[49m\n",
      "File \u001b[1;32mf:\\anaconda3\\envs\\aws\\lib\\site-packages\\pyspark\\sql\\readwriter.py:1743\u001b[0m, in \u001b[0;36mDataFrameWriter.save\u001b[1;34m(self, path, format, mode, partitionBy, **options)\u001b[0m\n\u001b[0;32m   1741\u001b[0m     \u001b[38;5;28mself\u001b[39m\u001b[38;5;241m.\u001b[39mformat(\u001b[38;5;28mformat\u001b[39m)\n\u001b[0;32m   1742\u001b[0m \u001b[38;5;28;01mif\u001b[39;00m path \u001b[38;5;129;01mis\u001b[39;00m \u001b[38;5;28;01mNone\u001b[39;00m:\n\u001b[1;32m-> 1743\u001b[0m     \u001b[38;5;28;43mself\u001b[39;49m\u001b[38;5;241;43m.\u001b[39;49m\u001b[43m_jwrite\u001b[49m\u001b[38;5;241;43m.\u001b[39;49m\u001b[43msave\u001b[49m\u001b[43m(\u001b[49m\u001b[43m)\u001b[49m\n\u001b[0;32m   1744\u001b[0m \u001b[38;5;28;01melse\u001b[39;00m:\n\u001b[0;32m   1745\u001b[0m     \u001b[38;5;28mself\u001b[39m\u001b[38;5;241m.\u001b[39m_jwrite\u001b[38;5;241m.\u001b[39msave(path)\n",
      "File \u001b[1;32mf:\\anaconda3\\envs\\aws\\lib\\site-packages\\py4j\\java_gateway.py:1362\u001b[0m, in \u001b[0;36mJavaMember.__call__\u001b[1;34m(self, *args)\u001b[0m\n\u001b[0;32m   1356\u001b[0m command \u001b[38;5;241m=\u001b[39m proto\u001b[38;5;241m.\u001b[39mCALL_COMMAND_NAME \u001b[38;5;241m+\u001b[39m\\\n\u001b[0;32m   1357\u001b[0m     \u001b[38;5;28mself\u001b[39m\u001b[38;5;241m.\u001b[39mcommand_header \u001b[38;5;241m+\u001b[39m\\\n\u001b[0;32m   1358\u001b[0m     args_command \u001b[38;5;241m+\u001b[39m\\\n\u001b[0;32m   1359\u001b[0m     proto\u001b[38;5;241m.\u001b[39mEND_COMMAND_PART\n\u001b[0;32m   1361\u001b[0m answer \u001b[38;5;241m=\u001b[39m \u001b[38;5;28mself\u001b[39m\u001b[38;5;241m.\u001b[39mgateway_client\u001b[38;5;241m.\u001b[39msend_command(command)\n\u001b[1;32m-> 1362\u001b[0m return_value \u001b[38;5;241m=\u001b[39m \u001b[43mget_return_value\u001b[49m\u001b[43m(\u001b[49m\n\u001b[0;32m   1363\u001b[0m \u001b[43m    \u001b[49m\u001b[43manswer\u001b[49m\u001b[43m,\u001b[49m\u001b[43m \u001b[49m\u001b[38;5;28;43mself\u001b[39;49m\u001b[38;5;241;43m.\u001b[39;49m\u001b[43mgateway_client\u001b[49m\u001b[43m,\u001b[49m\u001b[43m \u001b[49m\u001b[38;5;28;43mself\u001b[39;49m\u001b[38;5;241;43m.\u001b[39;49m\u001b[43mtarget_id\u001b[49m\u001b[43m,\u001b[49m\u001b[43m \u001b[49m\u001b[38;5;28;43mself\u001b[39;49m\u001b[38;5;241;43m.\u001b[39;49m\u001b[43mname\u001b[49m\u001b[43m)\u001b[49m\n\u001b[0;32m   1365\u001b[0m \u001b[38;5;28;01mfor\u001b[39;00m temp_arg \u001b[38;5;129;01min\u001b[39;00m temp_args:\n\u001b[0;32m   1366\u001b[0m     \u001b[38;5;28;01mif\u001b[39;00m \u001b[38;5;28mhasattr\u001b[39m(temp_arg, \u001b[38;5;124m\"\u001b[39m\u001b[38;5;124m_detach\u001b[39m\u001b[38;5;124m\"\u001b[39m):\n",
      "File \u001b[1;32mf:\\anaconda3\\envs\\aws\\lib\\site-packages\\pyspark\\errors\\exceptions\\captured.py:288\u001b[0m, in \u001b[0;36mcapture_sql_exception.<locals>.deco\u001b[1;34m(*a, **kw)\u001b[0m\n\u001b[0;32m    284\u001b[0m converted \u001b[38;5;241m=\u001b[39m convert_exception(e\u001b[38;5;241m.\u001b[39mjava_exception)\n\u001b[0;32m    285\u001b[0m \u001b[38;5;28;01mif\u001b[39;00m \u001b[38;5;129;01mnot\u001b[39;00m \u001b[38;5;28misinstance\u001b[39m(converted, UnknownException):\n\u001b[0;32m    286\u001b[0m     \u001b[38;5;66;03m# Hide where the exception came from that shows a non-Pythonic\u001b[39;00m\n\u001b[0;32m    287\u001b[0m     \u001b[38;5;66;03m# JVM exception message.\u001b[39;00m\n\u001b[1;32m--> 288\u001b[0m     \u001b[38;5;28;01mraise\u001b[39;00m converted \u001b[38;5;28;01mfrom\u001b[39;00m\u001b[38;5;250m \u001b[39m\u001b[38;5;28;01mNone\u001b[39;00m\n\u001b[0;32m    289\u001b[0m \u001b[38;5;28;01melse\u001b[39;00m:\n\u001b[0;32m    290\u001b[0m     \u001b[38;5;28;01mraise\u001b[39;00m\n",
      "\u001b[1;31mAnalysisException\u001b[0m: Table or view 'schema_pyspark.WordCount' already exists. SaveMode: ErrorIfExists."
     ]
    }
   ],
   "source": [
    "# COMMAND ----------\n",
    "\n",
    "# Load\n",
    "\n",
    "driver = \"org.postgresql.Driver\"\n",
    "#url = \"rds001.czcasq2eoak3.ap-southeast-1.rds.amazonaws.com\"\n",
    "url = \"jdbc:postgresql://rds001.czcasq2eoak3.ap-southeast-1.rds.amazonaws.com/\"\n",
    "table = \"schema_pyspark.WordCount\"\n",
    "user = \"postgres\"\n",
    "password = \"lyx1998225\"\n",
    "\n",
    "wordCount.write.format(\"jdbc\").option(\"driver\", driver).option(\"url\",url).option(\"dbtable\", table).option(\"mode\", \n",
    "\"append\").option(\"user\",user).option(\"password\", password).save()\n"
   ]
  }
 ],
 "metadata": {
  "kernelspec": {
   "display_name": "Python (aws_spark)",
   "language": "python",
   "name": "aws"
  },
  "language_info": {
   "codemirror_mode": {
    "name": "ipython",
    "version": 3
   },
   "file_extension": ".py",
   "mimetype": "text/x-python",
   "name": "python",
   "nbconvert_exporter": "python",
   "pygments_lexer": "ipython3",
   "version": "3.9.16"
  }
 },
 "nbformat": 4,
 "nbformat_minor": 5
}
